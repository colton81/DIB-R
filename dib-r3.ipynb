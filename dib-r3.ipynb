{
  "nbformat": 4,
  "nbformat_minor": 0,
  "metadata": {
    "colab": {
      "name": "Untitled3.ipynb",
      "provenance": [],
      "toc_visible": true,
      "authorship_tag": "ABX9TyOLkl+ht7AKJvULU03NM8NU",
      "include_colab_link": true
    },
    "kernelspec": {
      "name": "python3",
      "display_name": "Python 3"
    },
    "accelerator": "GPU"
  },
  "cells": [
    {
      "cell_type": "markdown",
      "metadata": {
        "id": "view-in-github",
        "colab_type": "text"
      },
      "source": [
        "<a href=\"https://colab.research.google.com/github/colton81/DIB-R/blob/master/dib-r3.ipynb\" target=\"_parent\"><img src=\"https://colab.research.google.com/assets/colab-badge.svg\" alt=\"Open In Colab\"/></a>"
      ]
    },
    {
      "cell_type": "code",
      "metadata": {
        "id": "qaWTlfsGPKgr",
        "colab_type": "code",
        "colab": {
          "base_uri": "https://localhost:8080/",
          "height": 34
        },
        "outputId": "9e7df1f2-aeba-4a87-a2dd-cfb53dd592dc"
      },
      "source": [
        "from google.colab import drive\n",
        "drive.mount('/content/drive')"
      ],
      "execution_count": 1,
      "outputs": [
        {
          "output_type": "stream",
          "text": [
            "Drive already mounted at /content/drive; to attempt to forcibly remount, call drive.mount(\"/content/drive\", force_remount=True).\n"
          ],
          "name": "stdout"
        }
      ]
    },
    {
      "cell_type": "code",
      "metadata": {
        "id": "7iBcmlwNQMiY",
        "colab_type": "code",
        "colab": {
          "base_uri": "https://localhost:8080/",
          "height": 34
        },
        "outputId": "a4bae856-2d0b-420e-d70b-fa44f20039fa"
      },
      "source": [
        "cd /content/drive/My Drive/DIB-R-master"
      ],
      "execution_count": 2,
      "outputs": [
        {
          "output_type": "stream",
          "text": [
            "/content/drive/My Drive/DIB-R-master\n"
          ],
          "name": "stdout"
        }
      ]
    },
    {
      "cell_type": "code",
      "metadata": {
        "id": "YeF5I9K7FaGt",
        "colab_type": "code",
        "colab": {
          "base_uri": "https://localhost:8080/",
          "height": 153
        },
        "outputId": "ce2e7ae5-a0cf-4823-988a-7f895c951b3d"
      },
      "source": [
        "pip install -r requirements.txt"
      ],
      "execution_count": 3,
      "outputs": [
        {
          "output_type": "stream",
          "text": [
            "Requirement already satisfied: numpy==1.16.2 in /usr/local/lib/python3.6/dist-packages (from -r requirements.txt (line 1)) (1.16.2)\n",
            "Requirement already satisfied: tensorboardX==1.6 in /usr/local/lib/python3.6/dist-packages (from -r requirements.txt (line 2)) (1.6)\n",
            "Requirement already satisfied: torch==1.1.0 in /usr/local/lib/python3.6/dist-packages (from -r requirements.txt (line 3)) (1.1.0)\n",
            "Requirement already satisfied: torchvision==0.2.1 in /usr/local/lib/python3.6/dist-packages (from -r requirements.txt (line 4)) (0.2.1)\n",
            "Requirement already satisfied: six in /usr/local/lib/python3.6/dist-packages (from tensorboardX==1.6->-r requirements.txt (line 2)) (1.12.0)\n",
            "Requirement already satisfied: protobuf>=3.2.0 in /usr/local/lib/python3.6/dist-packages (from tensorboardX==1.6->-r requirements.txt (line 2)) (3.10.0)\n",
            "Requirement already satisfied: pillow>=4.1.1 in /usr/local/lib/python3.6/dist-packages (from torchvision==0.2.1->-r requirements.txt (line 4)) (6.2.2)\n",
            "Requirement already satisfied: setuptools in /usr/local/lib/python3.6/dist-packages (from protobuf>=3.2.0->tensorboardX==1.6->-r requirements.txt (line 2)) (45.1.0)\n"
          ],
          "name": "stdout"
        }
      ]
    },
    {
      "cell_type": "code",
      "metadata": {
        "id": "iuLi_uWhO77g",
        "colab_type": "code",
        "colab": {
          "base_uri": "https://localhost:8080/",
          "height": 34
        },
        "outputId": "98afdc7a-25d3-4247-92ed-c38c187456f7"
      },
      "source": [
        "cd dib-render/cuda_dib_render"
      ],
      "execution_count": 4,
      "outputs": [
        {
          "output_type": "stream",
          "text": [
            "/content/drive/My Drive/DIB-R-master/dib-render/cuda_dib_render\n"
          ],
          "name": "stdout"
        }
      ]
    },
    {
      "cell_type": "code",
      "metadata": {
        "id": "n60hoOUqO_By",
        "colab_type": "code",
        "colab": {
          "base_uri": "https://localhost:8080/",
          "height": 1000
        },
        "outputId": "ff4f572b-3960-47d3-ba35-aac5eb61e3ec"
      },
      "source": [
        "!python build.py install"
      ],
      "execution_count": 9,
      "outputs": [
        {
          "output_type": "stream",
          "text": [
            "running install\n",
            "running bdist_egg\n",
            "running egg_info\n",
            "writing dr_batch_dib_render.egg-info/PKG-INFO\n",
            "writing dependency_links to dr_batch_dib_render.egg-info/dependency_links.txt\n",
            "writing top-level names to dr_batch_dib_render.egg-info/top_level.txt\n",
            "reading manifest file 'dr_batch_dib_render.egg-info/SOURCES.txt'\n",
            "writing manifest file 'dr_batch_dib_render.egg-info/SOURCES.txt'\n",
            "installing library code to build/bdist.linux-x86_64/egg\n",
            "running install_lib\n",
            "running build_ext\n",
            "building 'dr_batch_dib_render' extension\n",
            "creating build/temp.linux-x86_64-3.6\n",
            "x86_64-linux-gnu-gcc -pthread -DNDEBUG -g -fwrapv -O2 -Wall -g -fstack-protector-strong -Wformat -Werror=format-security -Wdate-time -D_FORTIFY_SOURCE=2 -fPIC -I/usr/local/lib/python3.6/dist-packages/torch/include -I/usr/local/lib/python3.6/dist-packages/torch/include/torch/csrc/api/include -I/usr/local/lib/python3.6/dist-packages/torch/include/TH -I/usr/local/lib/python3.6/dist-packages/torch/include/THC -I/usr/local/cuda/include -I/usr/include/python3.6m -c dr.cpp -o build/temp.linux-x86_64-3.6/dr.o -DTORCH_API_INCLUDE_EXTENSION_H -DTORCH_EXTENSION_NAME=dr_batch_dib_render -D_GLIBCXX_USE_CXX11_ABI=0 -std=c++11\n",
            "/usr/local/cuda/bin/nvcc -I/usr/local/lib/python3.6/dist-packages/torch/include -I/usr/local/lib/python3.6/dist-packages/torch/include/torch/csrc/api/include -I/usr/local/lib/python3.6/dist-packages/torch/include/TH -I/usr/local/lib/python3.6/dist-packages/torch/include/THC -I/usr/local/cuda/include -I/usr/include/python3.6m -c dr_cuda_for.cu -o build/temp.linux-x86_64-3.6/dr_cuda_for.o -D__CUDA_NO_HALF_OPERATORS__ -D__CUDA_NO_HALF_CONVERSIONS__ -D__CUDA_NO_HALF2_OPERATORS__ --compiler-options '-fPIC' -DTORCH_API_INCLUDE_EXTENSION_H -DTORCH_EXTENSION_NAME=dr_batch_dib_render -D_GLIBCXX_USE_CXX11_ABI=0 -std=c++11\n",
            "dr_cuda_for.cu(226): warning: variable \"fidxcover\" was declared but never referenced\n",
            "\n",
            "\u001b[01m\u001b[Kdr_cuda_for.cu:\u001b[m\u001b[K In lambda function:\n",
            "\u001b[01m\u001b[Kdr_cuda_for.cu:366:138:\u001b[m\u001b[K \u001b[01;35m\u001b[Kwarning: \u001b[m\u001b[K‘\u001b[01m\u001b[Kc10::ScalarType detail::scalar_type(const at::DeprecatedTypeProperties&)\u001b[m\u001b[K’ is deprecated [\u001b[01;35m\u001b[K-Wdeprecated-declarations\u001b[m\u001b[K]\n",
            "  AT_DISPATCH_FLOATING_TYPES(points3d_bxfx9.type(),\n",
            "                                                                                                                                          \u001b[01;35m\u001b[K^\u001b[m\u001b[K\n",
            "\u001b[01m\u001b[K/usr/local/lib/python3.6/dist-packages/torch/include/ATen/Dispatch.h:47:1:\u001b[m\u001b[K \u001b[01;36m\u001b[Knote: \u001b[m\u001b[Kdeclared here\n",
            " \u001b[01;36m\u001b[Kinline at::\u001b[m\u001b[KScalarType scalar_type(const at::DeprecatedTypeProperties &t) {\n",
            " \u001b[01;36m\u001b[K^~~~~~~~~~~\u001b[m\u001b[K\n",
            "\u001b[01m\u001b[Kdr_cuda_for.cu:\u001b[m\u001b[K In lambda function:\n",
            "\u001b[01m\u001b[Kdr_cuda_for.cu:381:138:\u001b[m\u001b[K \u001b[01;35m\u001b[Kwarning: \u001b[m\u001b[K‘\u001b[01m\u001b[Kc10::ScalarType detail::scalar_type(const at::DeprecatedTypeProperties&)\u001b[m\u001b[K’ is deprecated [\u001b[01;35m\u001b[K-Wdeprecated-declarations\u001b[m\u001b[K]\n",
            "  AT_DISPATCH_FLOATING_TYPES(points3d_bxfx9.type(),\n",
            "                                                                                                                                          \u001b[01;35m\u001b[K^\u001b[m\u001b[K\n",
            "\u001b[01m\u001b[K/usr/local/lib/python3.6/dist-packages/torch/include/ATen/Dispatch.h:47:1:\u001b[m\u001b[K \u001b[01;36m\u001b[Knote: \u001b[m\u001b[Kdeclared here\n",
            " \u001b[01;36m\u001b[Kinline at::\u001b[m\u001b[KScalarType scalar_type(const at::DeprecatedTypeProperties &t) {\n",
            " \u001b[01;36m\u001b[K^~~~~~~~~~~\u001b[m\u001b[K\n",
            "/usr/local/cuda/bin/nvcc -I/usr/local/lib/python3.6/dist-packages/torch/include -I/usr/local/lib/python3.6/dist-packages/torch/include/torch/csrc/api/include -I/usr/local/lib/python3.6/dist-packages/torch/include/TH -I/usr/local/lib/python3.6/dist-packages/torch/include/THC -I/usr/local/cuda/include -I/usr/include/python3.6m -c dr_cuda_back.cu -o build/temp.linux-x86_64-3.6/dr_cuda_back.o -D__CUDA_NO_HALF_OPERATORS__ -D__CUDA_NO_HALF_CONVERSIONS__ -D__CUDA_NO_HALF2_OPERATORS__ --compiler-options '-fPIC' -DTORCH_API_INCLUDE_EXTENSION_H -DTORCH_EXTENSION_NAME=dr_batch_dib_render -D_GLIBCXX_USE_CXX11_ABI=0 -std=c++11\n",
            "dr_cuda_back.cu(286): warning: variable \"fidxcover\" was declared but never referenced\n",
            "\n",
            "\u001b[01m\u001b[Kdr_cuda_back.cu:\u001b[m\u001b[K In lambda function:\n",
            "\u001b[01m\u001b[Kdr_cuda_back.cu:409:146:\u001b[m\u001b[K \u001b[01;35m\u001b[Kwarning: \u001b[m\u001b[K‘\u001b[01m\u001b[Kc10::ScalarType detail::scalar_type(const at::DeprecatedTypeProperties&)\u001b[m\u001b[K’ is deprecated [\u001b[01;35m\u001b[K-Wdeprecated-declarations\u001b[m\u001b[K]\n",
            "  AT_DISPATCH_FLOATING_TYPES(grad_image_bxhxwxd.type(),\n",
            "                                                                                                                                                  \u001b[01;35m\u001b[K^\u001b[m\u001b[K\n",
            "\u001b[01m\u001b[K/usr/local/lib/python3.6/dist-packages/torch/include/ATen/Dispatch.h:47:1:\u001b[m\u001b[K \u001b[01;36m\u001b[Knote: \u001b[m\u001b[Kdeclared here\n",
            " \u001b[01;36m\u001b[Kinline at::\u001b[m\u001b[KScalarType scalar_type(const at::DeprecatedTypeProperties &t) {\n",
            " \u001b[01;36m\u001b[K^~~~~~~~~~~\u001b[m\u001b[K\n",
            "\u001b[01m\u001b[Kdr_cuda_back.cu:\u001b[m\u001b[K In lambda function:\n",
            "\u001b[01m\u001b[Kdr_cuda_back.cu:424:146:\u001b[m\u001b[K \u001b[01;35m\u001b[Kwarning: \u001b[m\u001b[K‘\u001b[01m\u001b[Kc10::ScalarType detail::scalar_type(const at::DeprecatedTypeProperties&)\u001b[m\u001b[K’ is deprecated [\u001b[01;35m\u001b[K-Wdeprecated-declarations\u001b[m\u001b[K]\n",
            "  AT_DISPATCH_FLOATING_TYPES(grad_image_bxhxwxd.type(),\n",
            "                                                                                                                                                  \u001b[01;35m\u001b[K^\u001b[m\u001b[K\n",
            "\u001b[01m\u001b[K/usr/local/lib/python3.6/dist-packages/torch/include/ATen/Dispatch.h:47:1:\u001b[m\u001b[K \u001b[01;36m\u001b[Knote: \u001b[m\u001b[Kdeclared here\n",
            " \u001b[01;36m\u001b[Kinline at::\u001b[m\u001b[KScalarType scalar_type(const at::DeprecatedTypeProperties &t) {\n",
            " \u001b[01;36m\u001b[K^~~~~~~~~~~\u001b[m\u001b[K\n",
            "creating build/lib.linux-x86_64-3.6\n",
            "x86_64-linux-gnu-g++ -pthread -shared -Wl,-O1 -Wl,-Bsymbolic-functions -Wl,-Bsymbolic-functions -Wl,-z,relro -Wl,-Bsymbolic-functions -Wl,-z,relro -g -fstack-protector-strong -Wformat -Werror=format-security -Wdate-time -D_FORTIFY_SOURCE=2 build/temp.linux-x86_64-3.6/dr.o build/temp.linux-x86_64-3.6/dr_cuda_for.o build/temp.linux-x86_64-3.6/dr_cuda_back.o -L/usr/local/cuda/lib64 -lcudart -o build/lib.linux-x86_64-3.6/dr_batch_dib_render.cpython-36m-x86_64-linux-gnu.so\n",
            "creating build/bdist.linux-x86_64\n",
            "creating build/bdist.linux-x86_64/egg\n",
            "copying build/lib.linux-x86_64-3.6/dr_batch_dib_render.cpython-36m-x86_64-linux-gnu.so -> build/bdist.linux-x86_64/egg\n",
            "creating stub loader for dr_batch_dib_render.cpython-36m-x86_64-linux-gnu.so\n",
            "byte-compiling build/bdist.linux-x86_64/egg/dr_batch_dib_render.py to dr_batch_dib_render.cpython-36.pyc\n",
            "creating build/bdist.linux-x86_64/egg/EGG-INFO\n",
            "copying dr_batch_dib_render.egg-info/PKG-INFO -> build/bdist.linux-x86_64/egg/EGG-INFO\n",
            "copying dr_batch_dib_render.egg-info/SOURCES.txt -> build/bdist.linux-x86_64/egg/EGG-INFO\n",
            "copying dr_batch_dib_render.egg-info/dependency_links.txt -> build/bdist.linux-x86_64/egg/EGG-INFO\n",
            "copying dr_batch_dib_render.egg-info/top_level.txt -> build/bdist.linux-x86_64/egg/EGG-INFO\n",
            "writing build/bdist.linux-x86_64/egg/EGG-INFO/native_libs.txt\n",
            "zip_safe flag not set; analyzing archive contents...\n",
            "__pycache__.dr_batch_dib_render.cpython-36: module references __file__\n",
            "creating dist\n",
            "creating 'dist/dr_batch_dib_render-0.0.0-py3.6-linux-x86_64.egg' and adding 'build/bdist.linux-x86_64/egg' to it\n",
            "removing 'build/bdist.linux-x86_64/egg' (and everything under it)\n",
            "Processing dr_batch_dib_render-0.0.0-py3.6-linux-x86_64.egg\n",
            "creating /usr/local/lib/python3.6/dist-packages/dr_batch_dib_render-0.0.0-py3.6-linux-x86_64.egg\n",
            "Extracting dr_batch_dib_render-0.0.0-py3.6-linux-x86_64.egg to /usr/local/lib/python3.6/dist-packages\n",
            "Adding dr-batch-dib-render 0.0.0 to easy-install.pth file\n",
            "\n",
            "Installed /usr/local/lib/python3.6/dist-packages/dr_batch_dib_render-0.0.0-py3.6-linux-x86_64.egg\n",
            "Processing dependencies for dr-batch-dib-render==0.0.0\n",
            "Finished processing dependencies for dr-batch-dib-render==0.0.0\n",
            "<function setup at 0x7f649bd0cd90>\n"
          ],
          "name": "stdout"
        }
      ]
    },
    {
      "cell_type": "code",
      "metadata": {
        "id": "p_WnenQFTB0p",
        "colab_type": "code",
        "colab": {
          "base_uri": "https://localhost:8080/",
          "height": 34
        },
        "outputId": "b15e3ec6-3718-439e-9515-662b9a81d5a6"
      },
      "source": [
        "cd .."
      ],
      "execution_count": 11,
      "outputs": [
        {
          "output_type": "stream",
          "text": [
            "/content/drive/My Drive/DIB-R-master/dib-render\n"
          ],
          "name": "stdout"
        }
      ]
    },
    {
      "cell_type": "code",
      "metadata": {
        "id": "bUGIfXBWO_ka",
        "colab_type": "code",
        "colab": {
          "base_uri": "https://localhost:8080/",
          "height": 646
        },
        "outputId": "a05b40ee-bbff-48e7-fa2e-8c6701cbe15e"
      },
      "source": [
        "!python test-all.py --help"
      ],
      "execution_count": 19,
      "outputs": [
        {
          "output_type": "stream",
          "text": [
            "usage: test-all.py [-h] [--filelist FILELIST] [--thread THREAD]\n",
            "                   [--svfolder SVFOLDER] [--g_model_dir G_MODEL_DIR]\n",
            "                   [--data_folder DATA_FOLDER] [--iter ITER] [--loss LOSS]\n",
            "                   [--camera CAMERA] [--view VIEW] [--img_dim IMG_DIM]\n",
            "                   [--img_channels IMG_CHANNELS] [--batch_size BATCH_SIZE]\n",
            "                   [--epoch EPOCH] [--iter_log ITER_LOG]\n",
            "                   [--iter_sample ITER_SAMPLE] [--iter_model ITER_MODEL]\n",
            "                   [--sil_lambda SIL_LAMBDA]\n",
            "\n",
            "dib-r\n",
            "\n",
            "optional arguments:\n",
            "  -h, --help            show this help message and exit\n",
            "  --filelist FILELIST   filelist name\n",
            "  --thread THREAD       num of workers\n",
            "  --svfolder SVFOLDER   save folder for experiments\n",
            "  --g_model_dir G_MODEL_DIR\n",
            "                        save path for pretrained model\n",
            "  --data_folder DATA_FOLDER\n",
            "                        data folder\n",
            "  --iter ITER           start iteration\n",
            "  --loss LOSS           loss type\n",
            "  --camera CAMERA       camera mode\n",
            "  --view VIEW           view number\n",
            "  --img_dim IMG_DIM     dim of image\n",
            "  --img_channels IMG_CHANNELS\n",
            "                        image channels\n",
            "  --batch_size BATCH_SIZE\n",
            "                        batch size\n",
            "  --epoch EPOCH         training epoch\n",
            "  --iter_log ITER_LOG   iterations per log\n",
            "  --iter_sample ITER_SAMPLE\n",
            "                        iterations per sample\n",
            "  --iter_model ITER_MODEL\n",
            "                        iterations per model saving\n",
            "  --sil_lambda SIL_LAMBDA\n",
            "                        hyperparamter for sil\n"
          ],
          "name": "stdout"
        }
      ]
    },
    {
      "cell_type": "code",
      "metadata": {
        "id": "h1ij2HBwTXYI",
        "colab_type": "code",
        "colab": {
          "base_uri": "https://localhost:8080/",
          "height": 340
        },
        "outputId": "1783d480-ab75-4d6d-f920-a413a2188539"
      },
      "source": [
        "!python check_iou.py --folder ./prediction  --gt_folder ./dataset"
      ],
      "execution_count": 17,
      "outputs": [
        {
          "output_type": "stream",
          "text": [
            "./prediction\n",
            "Length files:  0\n",
            "Using 2 cpus\n",
            "02691156, 0.0 0.0 0.0\n",
            "02828884, 0.0 0.0 0.0\n",
            "02933112, 0.0 0.0 0.0\n",
            "02958343, 0.0 0.0 0.0\n",
            "03001627, 0.0 0.0 0.0\n",
            "03211117, 0.0 0.0 0.0\n",
            "03636649, 0.0 0.0 0.0\n",
            "03691459, 0.0 0.0 0.0\n",
            "04090263, 0.0 0.0 0.0\n",
            "04256520, 0.0 0.0 0.0\n",
            "04379243, 0.0 0.0 0.0\n",
            "04401088, 0.0 0.0 0.0\n",
            "04530566, 0.0 0.0 0.0\n",
            "mean, 0.0 0.0 0.0\n",
            "0.0000&0.0000&0.0000&0.0000&0.0000&0.0000&0.0000&0.0000&0.0000&0.0000&0.0000&0.0000&0.0000\n",
            "Category Num:  [0. 0. 0. 0. 0. 0. 0. 0. 0. 0. 0. 0. 0.]\n"
          ],
          "name": "stdout"
        }
      ]
    }
  ]
}